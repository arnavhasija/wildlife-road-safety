{
 "cells": [
  {
   "cell_type": "code",
   "execution_count": 1,
   "metadata": {},
   "outputs": [],
   "source": [
    "import pandas as pd\n",
    "import glob"
   ]
  },
  {
   "cell_type": "code",
   "execution_count": 2,
   "metadata": {},
   "outputs": [],
   "source": [
    "dataframes = []"
   ]
  },
  {
   "cell_type": "code",
   "execution_count": 3,
   "metadata": {},
   "outputs": [],
   "source": [
    "# Get a list of all CSV files in the current directory\n",
    "csv_files = glob.glob('open-data_aww-*.csv')\n",
    "\n",
    "# Loop through the files and read them into dataframes\n",
    "for file in csv_files:\n",
    "    df = pd.read_csv(file)\n",
    "    dataframes.append(df)\n",
    "\n",
    "# Combine the dataframes into one\n",
    "combined_data = pd.concat(dataframes, ignore_index=True)"
   ]
  },
  {
   "cell_type": "code",
   "execution_count": 4,
   "metadata": {},
   "outputs": [
    {
     "data": {
      "text/html": [
       "<div>\n",
       "<style scoped>\n",
       "    .dataframe tbody tr th:only-of-type {\n",
       "        vertical-align: middle;\n",
       "    }\n",
       "\n",
       "    .dataframe tbody tr th {\n",
       "        vertical-align: top;\n",
       "    }\n",
       "\n",
       "    .dataframe thead th {\n",
       "        text-align: right;\n",
       "    }\n",
       "</style>\n",
       "<table border=\"1\" class=\"dataframe\">\n",
       "  <thead>\n",
       "    <tr style=\"text-align: right;\">\n",
       "      <th></th>\n",
       "      <th>Month Observed</th>\n",
       "      <th>Year Observed</th>\n",
       "      <th>Species</th>\n",
       "      <th>Latitude</th>\n",
       "      <th>Longitude</th>\n",
       "    </tr>\n",
       "  </thead>\n",
       "  <tbody>\n",
       "    <tr>\n",
       "      <th>0</th>\n",
       "      <td>January</td>\n",
       "      <td>2016</td>\n",
       "      <td>Deer, White-Tailed</td>\n",
       "      <td>57.147963</td>\n",
       "      <td>-111.587578</td>\n",
       "    </tr>\n",
       "    <tr>\n",
       "      <th>1</th>\n",
       "      <td>January</td>\n",
       "      <td>2016</td>\n",
       "      <td>Deer, White-Tailed</td>\n",
       "      <td>56.800923</td>\n",
       "      <td>-111.435825</td>\n",
       "    </tr>\n",
       "    <tr>\n",
       "      <th>2</th>\n",
       "      <td>January</td>\n",
       "      <td>2016</td>\n",
       "      <td>Deer, White-Tailed</td>\n",
       "      <td>55.172016</td>\n",
       "      <td>-112.480026</td>\n",
       "    </tr>\n",
       "    <tr>\n",
       "      <th>3</th>\n",
       "      <td>January</td>\n",
       "      <td>2016</td>\n",
       "      <td>Deer, White-Tailed</td>\n",
       "      <td>56.392280</td>\n",
       "      <td>-111.443014</td>\n",
       "    </tr>\n",
       "    <tr>\n",
       "      <th>4</th>\n",
       "      <td>January</td>\n",
       "      <td>2016</td>\n",
       "      <td>Duck/Goose/Swan</td>\n",
       "      <td>56.711200</td>\n",
       "      <td>-111.385400</td>\n",
       "    </tr>\n",
       "  </tbody>\n",
       "</table>\n",
       "</div>"
      ],
      "text/plain": [
       "   Month Observed   Year Observed             Species   Latitude   Longitude\n",
       "0         January            2016  Deer, White-Tailed  57.147963 -111.587578\n",
       "1         January            2016  Deer, White-Tailed  56.800923 -111.435825\n",
       "2         January            2016  Deer, White-Tailed  55.172016 -112.480026\n",
       "3         January            2016  Deer, White-Tailed  56.392280 -111.443014\n",
       "4         January            2016     Duck/Goose/Swan  56.711200 -111.385400"
      ]
     },
     "execution_count": 4,
     "metadata": {},
     "output_type": "execute_result"
    }
   ],
   "source": [
    "# Display the first few rows of the dataset\n",
    "combined_data.head()"
   ]
  },
  {
   "cell_type": "code",
   "execution_count": 5,
   "metadata": {},
   "outputs": [
    {
     "name": "stdout",
     "output_type": "stream",
     "text": [
      "Index([' Month Observed', ' Year Observed', ' Species', ' Latitude',\n",
      "       ' Longitude'],\n",
      "      dtype='object')\n"
     ]
    }
   ],
   "source": [
    "# Checking the column names in the DataFrame \n",
    "print(combined_data.columns)"
   ]
  },
  {
   "cell_type": "code",
   "execution_count": 6,
   "metadata": {},
   "outputs": [],
   "source": [
    "# Remove leading and trailing white spaces from all column names\n",
    "combined_data.columns = combined_data.columns.str.strip()"
   ]
  }
 ],
 "metadata": {
  "kernelspec": {
   "display_name": "Python 3",
   "language": "python",
   "name": "python3"
  },
  "language_info": {
   "codemirror_mode": {
    "name": "ipython",
    "version": 3
   },
   "file_extension": ".py",
   "mimetype": "text/x-python",
   "name": "python",
   "nbconvert_exporter": "python",
   "pygments_lexer": "ipython3",
   "version": "3.8.5"
  }
 },
 "nbformat": 4,
 "nbformat_minor": 4
}
